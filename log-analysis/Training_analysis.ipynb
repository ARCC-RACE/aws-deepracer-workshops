{
 "cells": [
  {
   "cell_type": "markdown",
   "metadata": {},
   "source": [
    "# Simulation Run Log Analysis and Visualization for AWS DeepRacer\n",
    "\n",
    "This notebook walks through how you can analyze and debug using the AWS DeepRacer Simulation logs \n",
    "\n",
    "```\n",
    "1. Tools to find best iteration of your model\n",
    "2. Visualize reward distribution on the track\n",
    "  2.1 Visualize reward heatmap per episode or iteration\n",
    "3. Identify hotspots on the track for your model\n",
    "4. Understand probability distributions on simulated images\n",
    "5. Evaluation run analysis - plot lap speed heatmap\n",
    "```"
   ]
  },
  {
   "cell_type": "markdown",
   "metadata": {},
   "source": [
    "## Requirements\n",
    "\n",
    "boto3 >= 1.9.133  ; configure your aws cli and/or boto credentials file\n",
    "\n",
    "AWS CLI: https://docs.aws.amazon.com/cli/latest/userguide/cli-chap-configure.html\n",
    "\n",
    "Boto Configuration: https://boto3.amazonaws.com/v1/documentation/api/latest/guide/configuration.html"
   ]
  },
  {
   "cell_type": "code",
   "execution_count": null,
   "metadata": {},
   "outputs": [],
   "source": [
    "import numpy as np\n",
    "import pandas as pd\n",
    "import matplotlib.pyplot as plt\n",
    "from datetime import datetime\n",
    "%matplotlib inline\n",
    "\n",
    "#Shapely Library\n",
    "from shapely.geometry import Point, Polygon\n",
    "from shapely.geometry.polygon import LinearRing, LineString\n",
    "\n",
    "import track_utils as tu\n",
    "import log_analysis as la\n",
    "import cw_utils as cw\n",
    "\n",
    "# Make sure your boto version is >= '1.9.133'\n",
    "cw.boto3.__version__"
   ]
  },
  {
   "cell_type": "code",
   "execution_count": null,
   "metadata": {},
   "outputs": [],
   "source": [
    "# reload log_analysis and the rest of stuff here if needed\n",
    "# (handy for code updates in utils, doesn't break anything if no changes)\n",
    "import importlib\n",
    "importlib.reload(la)\n",
    "importlib.reload(cw)\n",
    "importlib.reload(tu)"
   ]
  },
  {
   "cell_type": "markdown",
   "metadata": {},
   "source": [
    "## Load waypoints for the track you want to run analysis on\n",
    "\n",
    "Tracks Available:"
   ]
  },
  {
   "cell_type": "code",
   "execution_count": null,
   "metadata": {},
   "outputs": [],
   "source": [
    "!ls tracks/"
   ]
  },
  {
   "cell_type": "code",
   "execution_count": null,
   "metadata": {},
   "outputs": [],
   "source": [
    "l_center_line, l_inner_border, l_outer_border, road_poly = tu.load_track(\"reinvent_base\")\n",
    "\n",
    "road_poly"
   ]
  },
  {
   "cell_type": "markdown",
   "metadata": {},
   "source": [
    "## Load all evaluation data\n",
    "\n",
    "It's good to keep things organised: group your files into folders to not lose track where they came from."
   ]
  },
  {
   "cell_type": "code",
   "execution_count": null,
   "metadata": {},
   "outputs": [],
   "source": [
    "#print log files and show most recent. You may want to use that file for analysis\n",
    "import os\n",
    "file_list = []\n",
    "for file in os.listdir(\"logs\"):\n",
    "    if(file==\"latest\"):\n",
    "        continue\n",
    "    file_list.append([os.stat(os.path.join(\"logs\", file)).st_mtime, os.path.join(\"logs\", file)])\n",
    "    file_list.sort(key=lambda x: x[0])  # sort by creation date\n",
    "    print(file + \"   :   \" + str(os.stat(os.path.join(\"logs\", file)).st_mtime))\n",
    "print(\"\\nMost recent file  = \" + file_list[-1][1])\n",
    "fname = file_list[-1][1]"
   ]
  },
  {
   "cell_type": "markdown",
   "metadata": {},
   "source": [
    "### Download the desired log file given the simulation ID \n",
    "\n",
    "\n",
    "If you wish to bulk export the logs from Amazon Cloudwatch to Amazon S3 :: \n",
    "https://docs.aws.amazon.com/AmazonCloudWatch/latest/logs/S3ExportTasks.html\n",
    "\n",
    "_Use `force=True` to download again_"
   ]
  },
  {
   "cell_type": "code",
   "execution_count": null,
   "metadata": {},
   "outputs": [],
   "source": [
    "#add force=True if you downloaded the file once but want to repeat\n",
    "cw.download_log(fname, stream_prefix=stream_name)\n",
    "\n",
    "!tail -n 3 $fname"
   ]
  },
  {
   "cell_type": "markdown",
   "metadata": {},
   "source": [
    "## Load the trace training log"
   ]
  },
  {
   "cell_type": "code",
   "execution_count": null,
   "metadata": {},
   "outputs": [],
   "source": [
    "EPISODES_PER_ITERATION = 20 #  Set to value of your hyperparameter in training\n",
    "\n",
    "data = la.load_data(fname)\n",
    "df = la.convert_to_pandas(data, episodes_per_iteration=EPISODES_PER_ITERATION)\n",
    "\n",
    "df = df.sort_values(['episode', 'steps'])\n",
    "# personally I think normalizing can mask too high rewards so I am commenting it out,\n",
    "# but you might want it.\n",
    "# la.normalize_rewards(df)"
   ]
  },
  {
   "cell_type": "markdown",
   "metadata": {},
   "source": [
    "Note the first line below: it takes a reward class from log-analysis/rewards, imports, instantiates and recalculates for the log. This lets you do some testing before you start training and rule out some obvious things.\n",
    "\n",
    "Just remember: not all params are provided, you are free to implement them and raise a Pull Request for log_analysis.df_to_params method.\n",
    "\n",
    "Wrap your reward function like in the sample one below.\n",
    "\n",
    "Final warning: there is a loss of precision in the logs and also potentially potential bugs. If you find any, please fix, please report."
   ]
  },
  {
   "cell_type": "code",
   "execution_count": null,
   "metadata": {
    "scrolled": false
   },
   "outputs": [],
   "source": [
    "la.new_reward(df, l_center_line, 'reward.reward_sample') #, verbose=True)\n",
    "\n",
    "simulation_agg = la.simulation_agg(df)\n",
    "\n",
    "la.analyze_training_progress(simulation_agg, title='Training progress')\n",
    "\n",
    "# This gives the warning about ptp method deprecation. The code looks as if np.ptp was used, I don't know how to fix it.\n",
    "la.scatter_aggregates(simulation_agg, 'Stats for all laps')\n",
    "\n",
    "complete_ones = simulation_agg[simulation_agg['progress']==100]\n",
    "\n",
    "if complete_ones.shape[0] > 0:\n",
    "    la.scatter_aggregates(complete_ones, 'Stats for complete laps')\n",
    "\n",
    "la.analyze_categories(simulation_agg, title='Quintiles')"
   ]
  },
  {
   "cell_type": "markdown",
   "metadata": {},
   "source": [
    "The calls below are useful when you want to look at some values largest or smallest. You can then take the episode number and scatter it below."
   ]
  },
  {
   "cell_type": "code",
   "execution_count": null,
   "metadata": {},
   "outputs": [],
   "source": [
    "# this is useful if you struggle to get a complete lap\n",
    "simulation_agg.nlargest(10, 'new_reward')"
   ]
  },
  {
   "cell_type": "code",
   "execution_count": null,
   "metadata": {},
   "outputs": [],
   "source": [
    "# fastest complete laps\n",
    "complete_ones.nsmallest(5, 'time')"
   ]
  },
  {
   "cell_type": "code",
   "execution_count": null,
   "metadata": {},
   "outputs": [],
   "source": [
    "# best rewards in completed laps\n",
    "complete_ones.nlargest(5, 'reward')"
   ]
  },
  {
   "cell_type": "code",
   "execution_count": null,
   "metadata": {
    "scrolled": true
   },
   "outputs": [],
   "source": [
    "# best rewards in completed laps\n",
    "complete_ones.nlargest(5, 'new_reward')"
   ]
  },
  {
   "cell_type": "code",
   "execution_count": null,
   "metadata": {},
   "outputs": [],
   "source": [
    "# this is useful if you struggle to get a complete lap\n",
    "simulation_agg.nlargest(5, 'progress')"
   ]
  },
  {
   "cell_type": "code",
   "execution_count": null,
   "metadata": {
    "scrolled": true
   },
   "outputs": [],
   "source": [
    "# list all entries aggregated per episode. Handy for comparing the outcomes for reward and new_reward,\n",
    "# but for not much else.\n",
    "simulation_agg.head()"
   ]
  },
  {
   "cell_type": "code",
   "execution_count": null,
   "metadata": {
    "scrolled": true
   },
   "outputs": [],
   "source": [
    "pd.set_option('display.max_rows', 500)\n",
    "\n",
    "# list all parsed log lines. Handy for comparing the outcomes for reward and new_reward,\n",
    "# but for not much else.\n",
    "df[df['episode']==10]"
   ]
  },
  {
   "cell_type": "code",
   "execution_count": null,
   "metadata": {},
   "outputs": [],
   "source": [
    "#This shows a histogram of actions per waypoint. Will let you spot potentially problematic places\n",
    "episode = df[df['episode']==771]\n",
    "episode[:-1].plot.bar(x='closest_waypoint', y='reward')"
   ]
  },
  {
   "cell_type": "markdown",
   "metadata": {},
   "source": [
    "## Analyze the reward distribution for your reward function"
   ]
  },
  {
   "cell_type": "markdown",
   "metadata": {},
   "source": [
    "### Path taken for top reward iterations\n",
    "\n",
    "NOTE: in a single episode, the car can go around multiple laps, the episode is terminated when car completes 1000 steps"
   ]
  },
  {
   "cell_type": "code",
   "execution_count": null,
   "metadata": {
    "scrolled": false
   },
   "outputs": [],
   "source": [
    "action_map, episode_map, sorted_idx = la.episode_parser(data)    \n",
    "fig = la.plot_top_laps(sorted_idx[:],  episode_map, l_center_line, l_inner_border, l_outer_border, 3)"
   ]
  },
  {
   "cell_type": "code",
   "execution_count": null,
   "metadata": {},
   "outputs": [],
   "source": [
    "# because Kumo Torakku has negative y values, I shamelessly took\n",
    "# RichardFan's modificationg for plot_track and refactored it to offer an x_shift and y_shift\n",
    "# They may not apply to other tracks. You will need to change it in the future. Simply add parameters:\n",
    "# track_size=(700,1000), y_shift=300\n",
    "track = la.plot_track(df, l_center_line, l_inner_border, l_outer_border)\n",
    "\n",
    "plt.title(\"Reward distribution for all actions \")\n",
    "im = plt.imshow(track, cmap='hot', interpolation='bilinear', origin=\"lower\") "
   ]
  },
  {
   "cell_type": "markdown",
   "metadata": {},
   "source": [
    "### Plot a particular iteration\n"
   ]
  },
  {
   "cell_type": "code",
   "execution_count": null,
   "metadata": {},
   "outputs": [],
   "source": [
    "iteration_id = 3\n",
    "track = la.plot_track(df[df['iteration'] == iteration_id], l_center_line, l_inner_border, l_outer_border)\n",
    "plt.title(\"Reward distribution for all actions \")\n",
    "im = plt.imshow(track, cmap='hot', interpolation='bilinear', origin=\"lower\") "
   ]
  },
  {
   "cell_type": "markdown",
   "metadata": {},
   "source": [
    "### Path taken in a particular episode"
   ]
  },
  {
   "cell_type": "code",
   "execution_count": null,
   "metadata": {},
   "outputs": [],
   "source": [
    "## Evaluation RUN\n",
    "def plot_episode_run(df, E, center_line, inner_border, outer_border):\n",
    "    fig = plt.figure(1, figsize=(12, 16))\n",
    "    ax = fig.add_subplot(211)\n",
    "    la.print_border(ax, center_line, inner_border, outer_border) \n",
    "    episode_data = df[df['episode'] == E]\n",
    "    for row in episode_data.iterrows():\n",
    "        x1,y1,action,reward = row[1]['x'], row[1]['y'], row[1]['action'], row[1]['reward']\n",
    "        car_x2, car_y2 = x1 - 0.02, y1\n",
    "        plt.plot([x1, car_x2], [y1, car_y2], 'r.')"
   ]
  },
  {
   "cell_type": "code",
   "execution_count": null,
   "metadata": {},
   "outputs": [],
   "source": [
    "plot_episode_run(df, 122, l_center_line, l_inner_border, l_outer_border) # arbitrary episode"
   ]
  },
  {
   "cell_type": "markdown",
   "metadata": {},
   "source": [
    "### Path taken in a particular Iteration"
   ]
  },
  {
   "cell_type": "code",
   "execution_count": null,
   "metadata": {
    "scrolled": false
   },
   "outputs": [],
   "source": [
    "iteration_id = 10\n",
    "EPISODE_PER_ITER = 40 # TODO this can be fetched from training logs\n",
    "\n",
    "for i in range((iteration_id-1)*EPISODE_PER_ITER, (iteration_id)*EPISODE_PER_ITER):\n",
    "    plot_episode_run(df, i, l_center_line, l_inner_border, l_outer_border)"
   ]
  },
  {
   "cell_type": "markdown",
   "metadata": {},
   "source": [
    "# Bulk training load\n",
    "\n",
    "This is some slow and heavy stuff in here. You can download all logs (or part of them if you play with `not_older_than` and `older_than` parameters that take a string representation of a date in ISO format, for instance `DD-MM-YYYY` works).\n",
    "\n",
    "Since it can be a lot of downloading, it is commented out in here.\n",
    "\n",
    "Files downloaded once will not be downloaded again unless you add `force=True`."
   ]
  },
  {
   "cell_type": "code",
   "execution_count": null,
   "metadata": {},
   "outputs": [],
   "source": [
    "#logs = cw.download_all_logs('logs/SELECT_YOUR_SUBFOLDER/training/deepracer-', '/aws/robomaker/SimulationJobs')"
   ]
  },
  {
   "cell_type": "markdown",
   "metadata": {},
   "source": [
    "Load every log from a folder. Every single one. This is a lot of data. If you want to save yourself some time later, below you have code to save and load all that with use of pickle."
   ]
  },
  {
   "cell_type": "code",
   "execution_count": null,
   "metadata": {},
   "outputs": [],
   "source": [
    "import os\n",
    "\n",
    "base_folder = 'logs/SELECT_YOUR_SUBFOLDER/training'\n",
    "df_list = list()\n",
    "big_training_panda = None\n",
    "for stream in os.listdir(base_folder):\n",
    "    data = la.load_data('%s/%s' % (base_folder, stream))\n",
    "    df = la.convert_to_pandas(data)\n",
    "    df['stream'] = stream[10:]\n",
    "    if big_training_panda is not None:\n",
    "        big_training_panda = big_training_panda.append(df)\n",
    "    else:\n",
    "        big_training_panda = df\n"
   ]
  },
  {
   "cell_type": "code",
   "execution_count": null,
   "metadata": {},
   "outputs": [],
   "source": [
    "# Have I mentioned a lot of data? This stores the data preprocessed for time savings\n",
    "big_training_panda.to_pickle('bulk_training_set.pickle')"
   ]
  },
  {
   "cell_type": "code",
   "execution_count": null,
   "metadata": {},
   "outputs": [],
   "source": [
    "from pandas import read_pickle\n",
    "\n",
    "big_training_panda = read_pickle('bulk_training_set.pickle')"
   ]
  },
  {
   "cell_type": "code",
   "execution_count": null,
   "metadata": {},
   "outputs": [],
   "source": [
    "# as usual, handle with care. Towards the end of the London Loop I needed 30-45 minutes to recalculate the reward.\n",
    "#la.new_reward(big_training_panda, l_center_line, 'reward.reward_sample')"
   ]
  },
  {
   "cell_type": "code",
   "execution_count": null,
   "metadata": {
    "scrolled": false
   },
   "outputs": [],
   "source": [
    "big_simulation_agg = la.simulation_agg(big_training_panda, 'stream')\n",
    "\n",
    "big_complete_ones = big_simulation_agg[big_simulation_agg['progress']==100]"
   ]
  },
  {
   "cell_type": "code",
   "execution_count": null,
   "metadata": {},
   "outputs": [],
   "source": [
    "grouped = big_simulation_agg.groupby(['stream'])\n",
    "\n",
    "for name, group in grouped:\n",
    "    la.scatter_aggregates(group, title=name)"
   ]
  },
  {
   "cell_type": "markdown",
   "metadata": {},
   "source": [
    "By the end of London Loop I had so much noise and random tries that wanted to find the most promising version of my model to submit. I used the below piece of code to iterate through all the stream values to detect the one with most promising times histogram. I should've added progress as well since the fastest ones hardly ever completed a lap. I will leave adding that as an exercise for the reader."
   ]
  },
  {
   "cell_type": "code",
   "execution_count": null,
   "metadata": {
    "scrolled": true
   },
   "outputs": [],
   "source": [
    "values = []\n",
    "show = []\n",
    "show_above = -1\n",
    "i = 0\n",
    "for value in big_complete_ones.stream.values:\n",
    "    if value in values:\n",
    "        continue\n",
    "    values.append(value)\n",
    "    if i in show or i > show_above:\n",
    "        print(value)\n",
    "        big_complete_ones[big_complete_ones['stream']==value].hist(column=['time'], bins=20)\n",
    "    i += 1"
   ]
  },
  {
   "cell_type": "code",
   "execution_count": null,
   "metadata": {},
   "outputs": [],
   "source": [
    "# display loads of everything\n",
    "big_simulation_agg"
   ]
  },
  {
   "cell_type": "markdown",
   "metadata": {},
   "source": [
    "# Action breakdown per iteration and historgram for action distribution for each of the turns - reinvent track\n",
    "\n",
    "This plot is useful to understand the actions that the model takes for any given iteration. \n",
    "\n",
    "This is a bit of an attempt to abstract away from the brilliant function in the original notebook towards a more general graph that we could use. It should be treated as a work in progress. The track_breakdown could be used as a starting point for a general track information object to handle all the customisations needed in methods of this notebook.\n",
    "\n",
    "A breakdown track data needs to be available for it. If you cannot find it for the desired track, MAKEIT.\n",
    "\n",
    "Currently supported tracks:"
   ]
  },
  {
   "cell_type": "code",
   "execution_count": null,
   "metadata": {},
   "outputs": [],
   "source": [
    "la.track_breakdown.keys()"
   ]
  },
  {
   "cell_type": "markdown",
   "metadata": {},
   "source": [
    "The second parameter is either a single index or a list of indices for df iterations that you would like to view. You can for instance use `sorted_idx` list which is a sorted list of iterations from the highest to lowest reward.\n",
    "\n",
    "Bear in mind that you will have to provide a proper action naming in parameter `action_names`, this function assumes only six actions by default. I think they need to match numbering of actions in your model's metadata json file."
   ]
  },
  {
   "cell_type": "code",
   "execution_count": null,
   "metadata": {
    "scrolled": false
   },
   "outputs": [],
   "source": [
    "la.action_breakdown(df, 20, la.track_breakdown['reinvent2018'], l_center_line, l_inner_border, l_outer_border)"
   ]
  }
 ],
 "metadata": {
  "kernelspec": {
   "display_name": "log-analysis.venv",
   "language": "python",
   "name": "log-analysis.venv"
  },
  "language_info": {
   "codemirror_mode": {
    "name": "ipython",
    "version": 3
   },
   "file_extension": ".py",
   "mimetype": "text/x-python",
   "name": "python",
   "nbconvert_exporter": "python",
   "pygments_lexer": "ipython3",
   "version": "3.6.8"
  }
 },
 "nbformat": 4,
 "nbformat_minor": 2
}
